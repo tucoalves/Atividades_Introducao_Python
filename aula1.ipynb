{
 "cells": [
  {
   "cell_type": "markdown",
   "id": "ee1fdb1b",
   "metadata": {},
   "source": [
    "Atividade da aula 1"
   ]
  },
  {
   "cell_type": "code",
   "execution_count": null,
   "id": "417fc447",
   "metadata": {},
   "outputs": [
    {
     "name": "stdout",
     "output_type": "stream",
     "text": [
      "Resultado da expressão: 5.206896551724138\n"
     ]
    }
   ],
   "source": [
    "# 1. Converta a seguinte expressão matemática para Python:\n",
    "\n",
    "resultado = (5 * (10 - 4)**2) / (3**3 + 2) - 1\n",
    "print(\"Resultado:\", resultado)"
   ]
  },
  {
   "cell_type": "code",
   "execution_count": 2,
   "id": "a39ac556",
   "metadata": {},
   "outputs": [
    {
     "name": "stdout",
     "output_type": "stream",
     "text": [
      "Distância entre os pontos: 10.0\n"
     ]
    }
   ],
   "source": [
    "# 2. Calcule a distância entre os pontos (2,3) e (8,11), utilizando a fórmula:\n",
    "\n",
    "import math\n",
    "\n",
    "x1, y1 = 2, 3\n",
    "x2, y2 = 8, 11\n",
    "\n",
    "distancia = math.sqrt((x2 - x1)**2 + (y2 - y1)**2)\n",
    "print(\"Distância entre os pontos:\", distancia)"
   ]
  },
  {
   "cell_type": "code",
   "execution_count": 7,
   "id": "f5605d39",
   "metadata": {},
   "outputs": [
    {
     "name": "stdout",
     "output_type": "stream",
     "text": [
      "Média ponderada: 7.55\n"
     ]
    }
   ],
   "source": [
    "# 3. Calcule a média ponderada com base nas notas e pesos:\n",
    "# Prova 1: Nota 7.0 (Peso 3)\n",
    "# Prova 2: Nota 8.5 (Peso 5)\n",
    "# Prova 3: Nota 6.0 (Peso 2)\n",
    "\n",
    "media_ponderada = ((7.0 * 3) + (8.5 * 5) + (6.0 * 2)) / 10\n",
    "print(\"Média ponderada:\", media_ponderada)"
   ]
  }
 ],
 "metadata": {
  "kernelspec": {
   "display_name": "Python 3",
   "language": "python",
   "name": "python3"
  },
  "language_info": {
   "codemirror_mode": {
    "name": "ipython",
    "version": 3
   },
   "file_extension": ".py",
   "mimetype": "text/x-python",
   "name": "python",
   "nbconvert_exporter": "python",
   "pygments_lexer": "ipython3",
   "version": "3.12.5"
  }
 },
 "nbformat": 4,
 "nbformat_minor": 5
}
